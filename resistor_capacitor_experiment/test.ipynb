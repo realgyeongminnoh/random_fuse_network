{
 "cells": [
  {
   "cell_type": "code",
   "execution_count": null,
   "id": "1b3a4361",
   "metadata": {},
   "outputs": [],
   "source": [
    "import numpy as np\n",
    "from scipy.sparse import csc_array\n",
    "from scipy.sparse.linalg import splu, spsolve\n",
    "\n",
    "from src.array import Array\n",
    "from src.matrix import Matrix"
   ]
  },
  {
   "cell_type": "code",
   "execution_count": null,
   "id": "739357e1",
   "metadata": {},
   "outputs": [],
   "source": [
    "length = 3\n",
    "width = 2.0\n",
    "seed = 0\n",
    "val_cap = 1.0\n",
    "time_step = 0.01\n",
    "cond_ext = 1.0"
   ]
  },
  {
   "cell_type": "code",
   "execution_count": null,
   "id": "45e58ad1",
   "metadata": {},
   "outputs": [],
   "source": [
    "array = Array(length=length)\n",
    "matrix = Matrix(matrix_init=None, array=array, cond_ext=cond_ext, val_cap=val_cap, time_step=time_step)"
   ]
  },
  {
   "cell_type": "markdown",
   "id": "910ca52e",
   "metadata": {},
   "source": [
    "---"
   ]
  },
  {
   "cell_type": "code",
   "execution_count": null,
   "id": "ab2bab23",
   "metadata": {},
   "outputs": [],
   "source": [
    "# def draw_matrix(mat: csc_array | np.ndarray):\n",
    "#     fig, ax = plt.subplots(1, 1, figsize=(10, 10), dpi=72)\n",
    "#     mat = mat.toarray() if isinstance(mat, csc_array) else mat\n",
    "#     size_row, size_col = mat.shape\n",
    "\n",
    "#     ax.spy(mat)\n",
    "#     for idx, entry in enumerate(mat.reshape(-1)):\n",
    "#         if entry:\n",
    "#             coord_row, coord_col = idx // size_col, idx % size_col\n",
    "#             ax.text(coord_col, coord_row, str(int(entry)), c=\"red\", horizontalalignment=\"center\", verticalalignment=\"center\")\n",
    "\n",
    "\n",
    "#     ax.set_xticks(range(size_col))\n",
    "#     ax.set_xticklabels([\"Top\", 3, 4, 5, 6, 7, 8] + list(range(12, 27))) # L=3 specific\n",
    "#     ax.tick_params(axis='x', which='both', labelbottom=True)\n",
    "\n",
    "#     ax.set_yticks(range(size_row))\n",
    "#     ax.tick_params(axis='y', which='both', labelright=True)\n",
    "#     plt.tight_layout()\n",
    "#     plt.show()"
   ]
  },
  {
   "cell_type": "code",
   "execution_count": null,
   "id": "66854be2",
   "metadata": {},
   "outputs": [],
   "source": [
    "# draw_matrix(matrix_discharge.div_cap_inc)"
   ]
  },
  {
   "cell_type": "markdown",
   "id": "39944255",
   "metadata": {},
   "source": [
    "---"
   ]
  },
  {
   "cell_type": "code",
   "execution_count": null,
   "id": "0a5c9e08",
   "metadata": {},
   "outputs": [],
   "source": [
    "# EDGES ORDER , NOT EDGES_DIV_CAP ORDER !!!!!!!!!!!!!!!!!!!!!!!!!!\n",
    "volts_cap = np.zeros(array.num_edge, dtype=np.float64)\n",
    "volts_cap[array.idxs_edge_vertical] = 1"
   ]
  },
  {
   "cell_type": "code",
   "execution_count": null,
   "id": "5791eb28",
   "metadata": {},
   "outputs": [],
   "source": [
    "# np.concatenate((np.zeros(matrix.size_div_comb), volts_cap)) # testing output in ipynb"
   ]
  },
  {
   "cell_type": "code",
   "execution_count": null,
   "id": "00505839",
   "metadata": {},
   "outputs": [],
   "source": [
    "print(\"breaking\", array.edges[7])\n",
    "edge_div_cond_broken = array.edges_div_cond[array.idxs_edge_to_edge_div_cond[7]]\n",
    "print(\"equivalent Gdiv edge\", edge_div_cond_broken)\n",
    "\n",
    "idx_node1_new, idx_node2_new = edge_div_cond_broken[0] - array.length + 1, edge_div_cond_broken[1] - array.length_double + 1\n",
    "matrix.div_cond[idx_node1_new, idx_node1_new] -= 1\n",
    "matrix.div_cond[idx_node2_new, idx_node2_new] -= 1\n",
    "matrix.div_cond[idx_node1_new, idx_node2_new] += 1\n",
    "matrix.div_cond[idx_node2_new, idx_node1_new] += 1\n",
    "\n",
    "matrix.div_comb[idx_node1_new, idx_node1_new] -= matrix.time_step\n",
    "matrix.div_comb[idx_node2_new, idx_node2_new] -= matrix.time_step\n",
    "matrix.div_comb[idx_node1_new, idx_node2_new] += matrix.time_step\n",
    "matrix.div_comb[idx_node2_new, idx_node1_new] += matrix.time_step"
   ]
  },
  {
   "cell_type": "code",
   "execution_count": null,
   "id": "29fbbb0c",
   "metadata": {},
   "outputs": [],
   "source": [
    "from scipy.sparse import bmat\n",
    "\n",
    "volts_node_div = spsolve(\n",
    "    bmat(\n",
    "        [[matrix.div_cond, matrix.div_cap_inc.T], [matrix.div_cap_inc, None]],\n",
    "        format=\"csc\",\n",
    "    ),\n",
    "    np.concatenate((np.zeros(matrix.size_div_comb), volts_cap)),\n",
    ")[:matrix.size_div_comb]"
   ]
  },
  {
   "cell_type": "code",
   "execution_count": null,
   "id": "8a1eb5bc",
   "metadata": {},
   "outputs": [],
   "source": [
    "length_minus_one = array.length - 1\n",
    "length_double_minus_one = array.length_double - 1\n",
    "\n",
    "def compute_volts_cap(volts_node_div):\n",
    "    for idx_edge, (idx_node1, idx_node2) in enumerate(np.array(array.edges_div_cap)[array.idxs_edge_to_edge_div_cap].tolist()):\n",
    "        idx_node1_new, idx_node2_new = idx_node1 - length_minus_one, idx_node2 - length_double_minus_one\n",
    "        if idx_node1 < length:\n",
    "            volts_cap[idx_edge] = volts_node_div[0] - volts_node_div[idx_node2_new]\n",
    "        else:\n",
    "            volts_cap[idx_edge] = volts_node_div[idx_node1_new] - volts_node_div[idx_node2_new]"
   ]
  },
  {
   "cell_type": "code",
   "execution_count": null,
   "id": "8d06f571",
   "metadata": {},
   "outputs": [],
   "source": [
    "volts_cap_profile = []\n",
    "volts_cap_profile.append(volts_cap.copy())\n",
    "\n",
    "for _ in range(3999):\n",
    "    volts_node_div = spsolve(matrix.div_comb, matrix.div_cap @ volts_node_div, permc_spec=\"MMD_AT_PLUS_A\")\n",
    "    compute_volts_cap(volts_node_div)\n",
    "    volts_cap_profile.append(volts_cap.copy())\n",
    "    "
   ]
  },
  {
   "cell_type": "code",
   "execution_count": null,
   "id": "de81d3b8",
   "metadata": {},
   "outputs": [],
   "source": [
    "yd = volts_cap_profile[-1]"
   ]
  },
  {
   "cell_type": "code",
   "execution_count": null,
   "id": "3214ced6",
   "metadata": {},
   "outputs": [],
   "source": [
    "for idx_edge, (idx_node1, idx_node2) in enumerate(np.array(array.edges_div_cap)[array.idxs_edge_to_edge_div_cap].tolist()):\n",
    "    print((idx_node1, idx_node2), yd[idx_edge])"
   ]
  },
  {
   "cell_type": "code",
   "execution_count": null,
   "id": "120404e9",
   "metadata": {},
   "outputs": [],
   "source": []
  },
  {
   "cell_type": "code",
   "execution_count": null,
   "id": "b8fbd1df",
   "metadata": {},
   "outputs": [],
   "source": []
  },
  {
   "cell_type": "code",
   "execution_count": null,
   "id": "c6f7df43",
   "metadata": {},
   "outputs": [],
   "source": [
    "import matplotlib.pyplot as plt\n",
    "volts_cap_profile_temp = np.array(volts_cap_profile.copy()).transpose() # [edge, time]\n",
    "\n",
    "fig, ax = plt.subplots(1, 1, figsize=(10, 10), dpi=72)\n",
    "\n",
    "for idx_edge, volt_profile in enumerate(volts_cap_profile_temp[array.idxs_edge_vertical]):\n",
    "    ax.plot(range(1000), volt_profile, lw=idx_edge + 2, zorder=20 - idx_edge) #, c=\"black\", lw=1)\n",
    "    # ax.text(\n",
    "    #     2000 + np.random.uniform(-200, 200, 1)[0],\n",
    "    #     volt_profile[-1] + np.random.uniform(-0.1,  + 0.1, 1)[0], \n",
    "    #     np.array(array.edges)[array.idxs_edge_horizontal][idx_edge],\n",
    "    #     zorder=100\n",
    "    # )\n",
    "\n",
    "plt.tight_layout()\n",
    "plt.show()"
   ]
  },
  {
   "cell_type": "code",
   "execution_count": null,
   "id": "14e79bd5",
   "metadata": {},
   "outputs": [],
   "source": [
    "asdf"
   ]
  },
  {
   "cell_type": "code",
   "execution_count": null,
   "id": "a1365a36",
   "metadata": {},
   "outputs": [],
   "source": [
    "# # fully connected; from falstad\n",
    "# volts_node_div = np.array(\n",
    "#     [\n",
    "#         1.5,  # VTOP\n",
    "#         1,  # V3\n",
    "#         1,\n",
    "#         1,\n",
    "#         0.5,\n",
    "#         0.5,\n",
    "#         0.5,\n",
    "#         0.5,  # V12\n",
    "#         0.5,\n",
    "#         0.5,\n",
    "#         1,\n",
    "#         1,\n",
    "#         0,\n",
    "#         1,\n",
    "#         0,\n",
    "#         0,\n",
    "#         0.5,  # V21\n",
    "#         0.5,\n",
    "#         -0.5,\n",
    "#         0.5,\n",
    "#         -0.5,\n",
    "#         -0.5,\n",
    "#     ]\n",
    "# )\n",
    "\n",
    "# idx_edge 7 broken; from falstad\n",
    "volts_node_div = np.array(\n",
    "    [\n",
    "        4/3,  # VTOP\n",
    "        5/6,  # V3\n",
    "        2/3,\n",
    "        5/6,\n",
    "        0.5,\n",
    "        2/3,\n",
    "        0.5,\n",
    "        1/3,  # V12\n",
    "        1/3,\n",
    "        1/3,\n",
    "        2/3,\n",
    "        5/6,\n",
    "        -1/6,\n",
    "        5/6,\n",
    "        -1/3,\n",
    "        -1/6,\n",
    "        2/3,  # V21\n",
    "        0.5,\n",
    "        -0.5,\n",
    "        0.5,\n",
    "        -1/3,\n",
    "        -0.5,\n",
    "    ]\n",
    ")"
   ]
  },
  {
   "cell_type": "code",
   "execution_count": null,
   "id": "63958022",
   "metadata": {},
   "outputs": [],
   "source": [
    "plt.bar(range(22), asdf[:matrix.size_div_comb] - volts_node_div, width=1)"
   ]
  },
  {
   "cell_type": "code",
   "execution_count": null,
   "id": "c6b2b4ef",
   "metadata": {},
   "outputs": [],
   "source": [
    "plt.bar(range(22), asdf[:matrix.size_div_comb], width=1)"
   ]
  },
  {
   "cell_type": "code",
   "execution_count": null,
   "id": "250bce53",
   "metadata": {},
   "outputs": [],
   "source": [
    "import numpy as np\n",
    "np.all((val_cap * (matrix.div_cap_inc.T @ matrix.div_cap_inc)).toarray() == matrix.div_cap)"
   ]
  }
 ],
 "metadata": {
  "kernelspec": {
   "display_name": "base",
   "language": "python",
   "name": "python3"
  },
  "language_info": {
   "codemirror_mode": {
    "name": "ipython",
    "version": 3
   },
   "file_extension": ".py",
   "mimetype": "text/x-python",
   "name": "python",
   "nbconvert_exporter": "python",
   "pygments_lexer": "ipython3",
   "version": "3.12.2"
  }
 },
 "nbformat": 4,
 "nbformat_minor": 5
}
