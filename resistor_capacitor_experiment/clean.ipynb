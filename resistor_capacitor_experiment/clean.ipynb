{
 "cells": [
  {
   "cell_type": "code",
   "execution_count": 1,
   "id": "e1850f1b",
   "metadata": {},
   "outputs": [],
   "source": [
    "import sys\n",
    "from pathlib import Path\n",
    "sys.path.insert(0, str(Path.cwd().parent))\n",
    "\n",
    "import numpy as np\n",
    "import matplotlib.pyplot as plt\n",
    "from scipy.sparse import csc_array, bmat\n",
    "from scipy.sparse.linalg import splu, spsolve\n",
    "\n",
    "from resistor_capacitor.src.array import Array\n",
    "from resistor_capacitor.src.matrix import Matrix\n",
    "from resistor_capacitor.src.equation import Equation\n",
    "from resistor_capacitor.src.failure import Failure\n",
    "from resistor_capacitor.breakdown import breakdown"
   ]
  },
  {
   "cell_type": "code",
   "execution_count": 2,
   "id": "f64cb6e8",
   "metadata": {},
   "outputs": [],
   "source": [
    "length = 10\n",
    "width = 2\n",
    "seed = 1\n",
    "val_cap = 1.0\n",
    "time_step = 0.01"
   ]
  },
  {
   "cell_type": "code",
   "execution_count": 3,
   "id": "25ef97d9",
   "metadata": {},
   "outputs": [
    {
     "data": {
      "image/png": "[encoded data removed]",
      "text/plain": [
       "<Figure size 360x360 with 1 Axes>"
      ]
     },
     "metadata": {},
     "output_type": "display_data"
    },
    {
     "name": "stdout",
     "output_type": "stream",
     "text": [
      "[2.28749635e-03 5.86623954e-02 2.54269339e-01 3.17119726e-01\n",
      " 3.97192583e-01 4.25249871e-01 4.45388443e-01 6.07624902e-01\n",
      " 8.35013161e-01 1.00029557e+00 1.15394083e+00 1.22648172e+00\n",
      " 1.43800073e+00 1.57422453e+00 1.60276237e+00 1.60276237e+00\n",
      " 1.68583211e+00 2.08225869e+00 2.21648200e+00 2.43783960e+00\n",
      " 2.78504144e+00 2.90054373e+00 2.99071484e+00 3.07073057e+00\n",
      " 3.07073057e+00 3.23399534e+00 3.23399534e+00 3.44284521e+00\n",
      " 3.73082988e+00 4.03059976e+00 4.45469261e+00 5.71240480e+00\n",
      " 5.71240480e+00 5.71240480e+00 6.04150513e+00 6.04150513e+00\n",
      " 6.04150513e+00 6.04150513e+00 6.04150513e+00 6.31800667e+00\n",
      " 6.84498967e+00 6.84498967e+00 7.12663777e+00 7.12663777e+00\n",
      " 7.26319825e+00 7.34784028e+00 7.34784028e+00 7.91366791e+00\n",
      " 7.91366791e+00 8.26465896e+00 8.81446953e+00 8.81446953e+00\n",
      " 8.81850553e+00 8.81850553e+00 1.10070595e+01 1.10070595e+01\n",
      " 1.10070595e+01 1.10070595e+01]\n"
     ]
    }
   ],
   "source": [
    "from analysis.rcc_src_tbc.draw import Draw\n",
    "\n",
    "\n",
    "draw = Draw(*breakdown(length, width, seed,val_cap, time_step))\n",
    "draw.graph_initialize(\n",
    "    figsize=(5, 5), dpi=72, size_edge=2, pad_inches=-0.7, \n",
    "    transparent=False, save=False, show=True,\n",
    ")\n",
    "draw.graph_specific(draw.failure.idxs_edge_broken, 0)\n",
    "print(np.array(draw.failure.volts_ext))"
   ]
  },
  {
   "cell_type": "markdown",
   "id": "c84ee1dc",
   "metadata": {},
   "source": [
    "---"
   ]
  },
  {
   "cell_type": "code",
   "execution_count": 4,
   "id": "5cd454c6",
   "metadata": {},
   "outputs": [],
   "source": [
    "array = Array(length=length, mode_analysis=True)\n",
    "matrix = Matrix(matrix_init=None, array=array, val_cap=val_cap, time_step=time_step)\n",
    "equation = Equation(array=array, matrix=matrix, save_volts_profile=True)\n",
    "failure = Failure(array=array, matrix=matrix, equation=equation, width=width, seed=seed, save_volts_profile=True)"
   ]
  },
  {
   "cell_type": "code",
   "execution_count": 5,
   "id": "18b145f0",
   "metadata": {},
   "outputs": [],
   "source": [
    "# CONSTANT EXTERNAL VOLTAGE (NO SCALING) EXPERIMENT\n",
    "equation.volt_ext = 10.0\n",
    "failure.idxs_edge_broken_nan = []\n",
    "\n",
    "def break_edge_experimental(failure: Failure):\n",
    "    failure._compute_volts_edge()\n",
    "    stresses_edge_neg = failure.breaking_strengths - failure.volts_edge\n",
    "    stresses_edge_neg[failure.idxs_edge_broken + failure.idxs_edge_leaf + failure.idxs_edge_island] = np.inf\n",
    "    idx_edge_broken = failure._find_edge_broken_leaf_proof(stresses_edge_neg)\n",
    "\n",
    "    if stresses_edge_neg[idx_edge_broken] <= 0:\n",
    "        # print(0, end=\", \") # max is overstressed\n",
    "        failure._update_matrix(idx_edge_broken)\n",
    "        failure.idxs_edge_broken.append(idx_edge_broken)\n",
    "        failure.idxs_edge_broken_nan.append(idx_edge_broken)\n",
    "\n",
    "    else:\n",
    "        # print(1, end=\", \") # all are understressed\n",
    "        failure.idxs_edge_broken_nan.append(np.nan)\n",
    "\n",
    "    failure._append_volts_edge_profile_dynamic()\n",
    "    failure.volts_ext.append(float(failure.equation.volt_ext))"
   ]
  },
  {
   "cell_type": "code",
   "execution_count": 6,
   "id": "3d83effd",
   "metadata": {},
   "outputs": [],
   "source": [
    "equation.solve_init()\n",
    "break_edge_experimental(failure)"
   ]
  },
  {
   "cell_type": "code",
   "execution_count": 7,
   "id": "8542a661",
   "metadata": {},
   "outputs": [],
   "source": [
    "solve = equation.solve\n",
    "solve_r = equation.solve_r_mmd\n",
    "for _ in range(array.length - 1):\n",
    "    solve_r()\n",
    "    solve()\n",
    "    break_edge_experimental(failure)"
   ]
  },
  {
   "cell_type": "code",
   "execution_count": 8,
   "id": "915adf15",
   "metadata": {},
   "outputs": [
    {
     "data": {
      "text/plain": [
       "array([1, 1, 0, 1, 1, 1, 1, 1, 1, 1, 4, 4, 3, 4, 4, 4, 4, 4, 4, 4, 4, 4,\n",
       "       4, 4, 4, 4, 4, 4, 4, 4, 4, 4, 4, 4, 4, 4, 4, 4, 4, 4, 4, 4, 4, 4,\n",
       "       4, 4, 4, 4, 4, 4, 4, 4, 4, 3, 4, 4, 4, 3, 4, 4, 4, 3, 4, 3, 3, 3,\n",
       "       4, 3, 3, 4, 4, 3, 4, 4, 3, 3, 3, 3, 3, 3, 4, 4, 4, 4, 4, 4, 3, 3,\n",
       "       4, 3, 4, 4, 4, 4, 4, 4, 4, 4, 4, 4, 1, 1, 1, 1, 1, 1, 1, 1, 1, 1],\n",
       "      dtype=int32)"
      ]
     },
     "execution_count": 8,
     "metadata": {},
     "output_type": "execute_result"
    }
   ],
   "source": [
    "failure.degrees"
   ]
  },
  {
   "cell_type": "code",
   "execution_count": 9,
   "id": "5863cfa8",
   "metadata": {},
   "outputs": [
    {
     "ename": "RecursionError",
     "evalue": "maximum recursion depth exceeded",
     "output_type": "error",
     "traceback": [
      "\u001b[0;31m---------------------------------------------------------------------------\u001b[0m",
      "\u001b[0;31mRecursionError\u001b[0m                            Traceback (most recent call last)",
      "Cell \u001b[0;32mIn[9], line 5\u001b[0m\n\u001b[1;32m      3\u001b[0m \u001b[38;5;28;01mwhile\u001b[39;00m solve_r() \u001b[38;5;129;01mand\u001b[39;00m count \u001b[38;5;241m<\u001b[39m \u001b[38;5;241m1000\u001b[39m:\n\u001b[1;32m      4\u001b[0m     solve()\n\u001b[0;32m----> 5\u001b[0m     \u001b[43mbreak_edge_experimental\u001b[49m\u001b[43m(\u001b[49m\u001b[43mfailure\u001b[49m\u001b[43m)\u001b[49m\n",
      "Cell \u001b[0;32mIn[5], line 9\u001b[0m, in \u001b[0;36mbreak_edge_experimental\u001b[0;34m(failure)\u001b[0m\n\u001b[1;32m      7\u001b[0m stresses_edge_neg \u001b[38;5;241m=\u001b[39m failure\u001b[38;5;241m.\u001b[39mbreaking_strengths \u001b[38;5;241m-\u001b[39m failure\u001b[38;5;241m.\u001b[39mvolts_edge\n\u001b[1;32m      8\u001b[0m stresses_edge_neg[failure\u001b[38;5;241m.\u001b[39midxs_edge_broken \u001b[38;5;241m+\u001b[39m failure\u001b[38;5;241m.\u001b[39midxs_edge_leaf \u001b[38;5;241m+\u001b[39m failure\u001b[38;5;241m.\u001b[39midxs_edge_island] \u001b[38;5;241m=\u001b[39m np\u001b[38;5;241m.\u001b[39minf\n\u001b[0;32m----> 9\u001b[0m idx_edge_broken \u001b[38;5;241m=\u001b[39m \u001b[43mfailure\u001b[49m\u001b[38;5;241;43m.\u001b[39;49m\u001b[43m_find_edge_broken_leaf_proof\u001b[49m\u001b[43m(\u001b[49m\u001b[43mstresses_edge_neg\u001b[49m\u001b[43m)\u001b[49m\n\u001b[1;32m     11\u001b[0m \u001b[38;5;28;01mif\u001b[39;00m stresses_edge_neg[idx_edge_broken] \u001b[38;5;241m<\u001b[39m\u001b[38;5;241m=\u001b[39m \u001b[38;5;241m0\u001b[39m:\n\u001b[1;32m     12\u001b[0m     \u001b[38;5;66;03m# print(0, end=\", \") # max is overstressed\u001b[39;00m\n\u001b[1;32m     13\u001b[0m     failure\u001b[38;5;241m.\u001b[39m_update_matrix(idx_edge_broken)\n",
      "File \u001b[0;32m~/project/random_fuse_network/resistor_capacitor/src/failure.py:198\u001b[0m, in \u001b[0;36mFailure._find_edge_broken_leaf_proof\u001b[0;34m(self, quantities)\u001b[0m\n\u001b[1;32m    196\u001b[0m         quantities[idx_edge_broken] \u001b[38;5;241m=\u001b[39m np\u001b[38;5;241m.\u001b[39minf\n\u001b[1;32m    197\u001b[0m         \u001b[38;5;28mself\u001b[39m\u001b[38;5;241m.\u001b[39midxs_edge_leaf\u001b[38;5;241m.\u001b[39mappend(idx_edge_broken)\n\u001b[0;32m--> 198\u001b[0m         \u001b[38;5;28;01mreturn\u001b[39;00m \u001b[38;5;28;43mself\u001b[39;49m\u001b[38;5;241;43m.\u001b[39;49m\u001b[43m_find_edge_broken_leaf_proof\u001b[49m\u001b[43m(\u001b[49m\u001b[43mquantities\u001b[49m\u001b[43m)\u001b[49m\n\u001b[1;32m    199\u001b[0m     \u001b[38;5;28;01mreturn\u001b[39;00m idx_edge_broken\n\u001b[1;32m    201\u001b[0m \u001b[38;5;28;01mif\u001b[39;00m degrees[idx_node1] \u001b[38;5;241m*\u001b[39m degrees[idx_node2] \u001b[38;5;241m==\u001b[39m \u001b[38;5;241m0\u001b[39m:\n",
      "File \u001b[0;32m~/project/random_fuse_network/resistor_capacitor/src/failure.py:206\u001b[0m, in \u001b[0;36mFailure._find_edge_broken_leaf_proof\u001b[0;34m(self, quantities)\u001b[0m\n\u001b[1;32m    204\u001b[0m     quantities[idx_edge_broken] \u001b[38;5;241m=\u001b[39m np\u001b[38;5;241m.\u001b[39minf\n\u001b[1;32m    205\u001b[0m     \u001b[38;5;28mself\u001b[39m\u001b[38;5;241m.\u001b[39midxs_edge_leaf\u001b[38;5;241m.\u001b[39mappend(idx_edge_broken)\n\u001b[0;32m--> 206\u001b[0m     \u001b[38;5;28;01mreturn\u001b[39;00m \u001b[38;5;28;43mself\u001b[39;49m\u001b[38;5;241;43m.\u001b[39;49m\u001b[43m_find_edge_broken_leaf_proof\u001b[49m\u001b[43m(\u001b[49m\u001b[43mquantities\u001b[49m\u001b[43m)\u001b[49m\n\u001b[1;32m    207\u001b[0m \u001b[38;5;28;01mreturn\u001b[39;00m idx_edge_broken\n",
      "File \u001b[0;32m~/project/random_fuse_network/resistor_capacitor/src/failure.py:206\u001b[0m, in \u001b[0;36mFailure._find_edge_broken_leaf_proof\u001b[0;34m(self, quantities)\u001b[0m\n\u001b[1;32m    204\u001b[0m     quantities[idx_edge_broken] \u001b[38;5;241m=\u001b[39m np\u001b[38;5;241m.\u001b[39minf\n\u001b[1;32m    205\u001b[0m     \u001b[38;5;28mself\u001b[39m\u001b[38;5;241m.\u001b[39midxs_edge_leaf\u001b[38;5;241m.\u001b[39mappend(idx_edge_broken)\n\u001b[0;32m--> 206\u001b[0m     \u001b[38;5;28;01mreturn\u001b[39;00m \u001b[38;5;28;43mself\u001b[39;49m\u001b[38;5;241;43m.\u001b[39;49m\u001b[43m_find_edge_broken_leaf_proof\u001b[49m\u001b[43m(\u001b[49m\u001b[43mquantities\u001b[49m\u001b[43m)\u001b[49m\n\u001b[1;32m    207\u001b[0m \u001b[38;5;28;01mreturn\u001b[39;00m idx_edge_broken\n",
      "    \u001b[0;31m[... skipping similar frames: Failure._find_edge_broken_leaf_proof at line 206 (7 times)]\u001b[0m\n",
      "File \u001b[0;32m~/project/random_fuse_network/resistor_capacitor/src/failure.py:206\u001b[0m, in \u001b[0;36mFailure._find_edge_broken_leaf_proof\u001b[0;34m(self, quantities)\u001b[0m\n\u001b[1;32m    204\u001b[0m     quantities[idx_edge_broken] \u001b[38;5;241m=\u001b[39m np\u001b[38;5;241m.\u001b[39minf\n\u001b[1;32m    205\u001b[0m     \u001b[38;5;28mself\u001b[39m\u001b[38;5;241m.\u001b[39midxs_edge_leaf\u001b[38;5;241m.\u001b[39mappend(idx_edge_broken)\n\u001b[0;32m--> 206\u001b[0m     \u001b[38;5;28;01mreturn\u001b[39;00m \u001b[38;5;28;43mself\u001b[39;49m\u001b[38;5;241;43m.\u001b[39;49m\u001b[43m_find_edge_broken_leaf_proof\u001b[49m\u001b[43m(\u001b[49m\u001b[43mquantities\u001b[49m\u001b[43m)\u001b[49m\n\u001b[1;32m    207\u001b[0m \u001b[38;5;28;01mreturn\u001b[39;00m idx_edge_broken\n",
      "File \u001b[0;32m~/project/random_fuse_network/resistor_capacitor/src/failure.py:189\u001b[0m, in \u001b[0;36mFailure._find_edge_broken_leaf_proof\u001b[0;34m(self, quantities)\u001b[0m\n\u001b[1;32m    187\u001b[0m         quantities[idx_edge_broken] \u001b[38;5;241m=\u001b[39m np\u001b[38;5;241m.\u001b[39minf\n\u001b[1;32m    188\u001b[0m         \u001b[38;5;28mself\u001b[39m\u001b[38;5;241m.\u001b[39midxs_edge_leaf\u001b[38;5;241m.\u001b[39mappend(idx_edge_broken)\n\u001b[0;32m--> 189\u001b[0m         \u001b[38;5;28;01mreturn\u001b[39;00m \u001b[38;5;28;43mself\u001b[39;49m\u001b[38;5;241;43m.\u001b[39;49m\u001b[43m_find_edge_broken_leaf_proof\u001b[49m\u001b[43m(\u001b[49m\u001b[43mquantities\u001b[49m\u001b[43m)\u001b[49m\n\u001b[1;32m    190\u001b[0m     \u001b[38;5;28;01mreturn\u001b[39;00m idx_edge_broken\n\u001b[1;32m    192\u001b[0m \u001b[38;5;28;01mif\u001b[39;00m idx_node2 \u001b[38;5;241m>\u001b[39m \u001b[38;5;28mself\u001b[39m\u001b[38;5;241m.\u001b[39marray\u001b[38;5;241m.\u001b[39midx_node_bot_first_minus_one:\n",
      "File \u001b[0;32m~/project/random_fuse_network/resistor_capacitor/src/failure.py:189\u001b[0m, in \u001b[0;36mFailure._find_edge_broken_leaf_proof\u001b[0;34m(self, quantities)\u001b[0m\n\u001b[1;32m    187\u001b[0m         quantities[idx_edge_broken] \u001b[38;5;241m=\u001b[39m np\u001b[38;5;241m.\u001b[39minf\n\u001b[1;32m    188\u001b[0m         \u001b[38;5;28mself\u001b[39m\u001b[38;5;241m.\u001b[39midxs_edge_leaf\u001b[38;5;241m.\u001b[39mappend(idx_edge_broken)\n\u001b[0;32m--> 189\u001b[0m         \u001b[38;5;28;01mreturn\u001b[39;00m \u001b[38;5;28;43mself\u001b[39;49m\u001b[38;5;241;43m.\u001b[39;49m\u001b[43m_find_edge_broken_leaf_proof\u001b[49m\u001b[43m(\u001b[49m\u001b[43mquantities\u001b[49m\u001b[43m)\u001b[49m\n\u001b[1;32m    190\u001b[0m     \u001b[38;5;28;01mreturn\u001b[39;00m idx_edge_broken\n\u001b[1;32m    192\u001b[0m \u001b[38;5;28;01mif\u001b[39;00m idx_node2 \u001b[38;5;241m>\u001b[39m \u001b[38;5;28mself\u001b[39m\u001b[38;5;241m.\u001b[39marray\u001b[38;5;241m.\u001b[39midx_node_bot_first_minus_one:\n",
      "    \u001b[0;31m[... skipping similar frames: Failure._find_edge_broken_leaf_proof at line 189 (2960 times)]\u001b[0m\n",
      "File \u001b[0;32m~/project/random_fuse_network/resistor_capacitor/src/failure.py:189\u001b[0m, in \u001b[0;36mFailure._find_edge_broken_leaf_proof\u001b[0;34m(self, quantities)\u001b[0m\n\u001b[1;32m    187\u001b[0m         quantities[idx_edge_broken] \u001b[38;5;241m=\u001b[39m np\u001b[38;5;241m.\u001b[39minf\n\u001b[1;32m    188\u001b[0m         \u001b[38;5;28mself\u001b[39m\u001b[38;5;241m.\u001b[39midxs_edge_leaf\u001b[38;5;241m.\u001b[39mappend(idx_edge_broken)\n\u001b[0;32m--> 189\u001b[0m         \u001b[38;5;28;01mreturn\u001b[39;00m \u001b[38;5;28;43mself\u001b[39;49m\u001b[38;5;241;43m.\u001b[39;49m\u001b[43m_find_edge_broken_leaf_proof\u001b[49m\u001b[43m(\u001b[49m\u001b[43mquantities\u001b[49m\u001b[43m)\u001b[49m\n\u001b[1;32m    190\u001b[0m     \u001b[38;5;28;01mreturn\u001b[39;00m idx_edge_broken\n\u001b[1;32m    192\u001b[0m \u001b[38;5;28;01mif\u001b[39;00m idx_node2 \u001b[38;5;241m>\u001b[39m \u001b[38;5;28mself\u001b[39m\u001b[38;5;241m.\u001b[39marray\u001b[38;5;241m.\u001b[39midx_node_bot_first_minus_one:\n",
      "File \u001b[0;32m~/project/random_fuse_network/resistor_capacitor/src/failure.py:178\u001b[0m, in \u001b[0;36mFailure._find_edge_broken_leaf_proof\u001b[0;34m(self, quantities)\u001b[0m\n\u001b[1;32m    176\u001b[0m \u001b[38;5;28;01mdef\u001b[39;00m \u001b[38;5;21m_find_edge_broken_leaf_proof\u001b[39m(\u001b[38;5;28mself\u001b[39m, quantities):\n\u001b[1;32m    177\u001b[0m     degrees \u001b[38;5;241m=\u001b[39m \u001b[38;5;28mself\u001b[39m\u001b[38;5;241m.\u001b[39mdegrees\n\u001b[0;32m--> 178\u001b[0m     idx_edge_broken \u001b[38;5;241m=\u001b[39m \u001b[38;5;28mint\u001b[39m(\u001b[43mnp\u001b[49m\u001b[38;5;241;43m.\u001b[39;49m\u001b[43margmin\u001b[49m\u001b[43m(\u001b[49m\u001b[43mquantities\u001b[49m\u001b[43m)\u001b[49m)\n\u001b[1;32m    179\u001b[0m     idx_node1, idx_node2 \u001b[38;5;241m=\u001b[39m \u001b[38;5;28mself\u001b[39m\u001b[38;5;241m.\u001b[39marray\u001b[38;5;241m.\u001b[39medges[idx_edge_broken]\n\u001b[1;32m    180\u001b[0m     degrees[idx_node1] \u001b[38;5;241m-\u001b[39m\u001b[38;5;241m=\u001b[39m \u001b[38;5;241m1\u001b[39m\n",
      "File \u001b[0;32m~/miniconda3/lib/python3.12/site-packages/numpy/_core/fromnumeric.py:1440\u001b[0m, in \u001b[0;36margmin\u001b[0;34m(a, axis, out, keepdims)\u001b[0m\n\u001b[1;32m   1351\u001b[0m \u001b[38;5;250m\u001b[39m\u001b[38;5;124;03m\"\"\"\u001b[39;00m\n\u001b[1;32m   1352\u001b[0m \u001b[38;5;124;03mReturns the indices of the minimum values along an axis.\u001b[39;00m\n\u001b[1;32m   1353\u001b[0m \n\u001b[0;32m   (...)\u001b[0m\n\u001b[1;32m   1437\u001b[0m \u001b[38;5;124;03m(2, 1, 4)\u001b[39;00m\n\u001b[1;32m   1438\u001b[0m \u001b[38;5;124;03m\"\"\"\u001b[39;00m\n\u001b[1;32m   1439\u001b[0m kwds \u001b[38;5;241m=\u001b[39m {\u001b[38;5;124m'\u001b[39m\u001b[38;5;124mkeepdims\u001b[39m\u001b[38;5;124m'\u001b[39m: keepdims} \u001b[38;5;28;01mif\u001b[39;00m keepdims \u001b[38;5;129;01mis\u001b[39;00m \u001b[38;5;129;01mnot\u001b[39;00m np\u001b[38;5;241m.\u001b[39m_NoValue \u001b[38;5;28;01melse\u001b[39;00m {}\n\u001b[0;32m-> 1440\u001b[0m \u001b[38;5;28;01mreturn\u001b[39;00m \u001b[43m_wrapfunc\u001b[49m\u001b[43m(\u001b[49m\u001b[43ma\u001b[49m\u001b[43m,\u001b[49m\u001b[43m \u001b[49m\u001b[38;5;124;43m'\u001b[39;49m\u001b[38;5;124;43margmin\u001b[39;49m\u001b[38;5;124;43m'\u001b[39;49m\u001b[43m,\u001b[49m\u001b[43m \u001b[49m\u001b[43maxis\u001b[49m\u001b[38;5;241;43m=\u001b[39;49m\u001b[43maxis\u001b[49m\u001b[43m,\u001b[49m\u001b[43m \u001b[49m\u001b[43mout\u001b[49m\u001b[38;5;241;43m=\u001b[39;49m\u001b[43mout\u001b[49m\u001b[43m,\u001b[49m\u001b[43m \u001b[49m\u001b[38;5;241;43m*\u001b[39;49m\u001b[38;5;241;43m*\u001b[39;49m\u001b[43mkwds\u001b[49m\u001b[43m)\u001b[49m\n",
      "\u001b[0;31mRecursionError\u001b[0m: maximum recursion depth exceeded"
     ]
    }
   ],
   "source": [
    "solve_r = equation.solve_r_amd\n",
    "count = 0\n",
    "while solve_r() and count < 1000:\n",
    "    solve()\n",
    "    break_edge_experimental(failure)"
   ]
  },
  {
   "cell_type": "code",
   "execution_count": null,
   "id": "428f5bf2",
   "metadata": {},
   "outputs": [
    {
     "data": {
      "image/png": "[encoded data removed]",
      "text/plain": [
       "<Figure size 360x360 with 1 Axes>"
      ]
     },
     "metadata": {},
     "output_type": "display_data"
    },
    {
     "name": "stdout",
     "output_type": "stream",
     "text": [
      "[100. 100. 100. 100. 100. 100. 100. 100. 100. 100.]\n"
     ]
    }
   ],
   "source": [
    "from analysis.rcc_src_tbc.draw import Draw\n",
    "\n",
    "\n",
    "draw = Draw(array, matrix, equation, failure)\n",
    "draw.graph_initialize(\n",
    "    figsize=(5, 5), dpi=72, size_edge=2, pad_inches=-0.7, \n",
    "    transparent=False, save=False, show=True,\n",
    ")\n",
    "draw.graph_specific(draw.failure.idxs_edge_broken, 1)\n",
    "print(np.array(draw.failure.volts_ext))"
   ]
  },
  {
   "cell_type": "code",
   "execution_count": null,
   "id": "676df3c4",
   "metadata": {},
   "outputs": [
    {
     "name": "stdout",
     "output_type": "stream",
     "text": [
      "[166, 168, 169, 152, 154, 156, 158, 160, 162, 164]\n"
     ]
    }
   ],
   "source": [
    "print(failure.idxs_edge_broken_nan)"
   ]
  },
  {
   "cell_type": "code",
   "execution_count": null,
   "id": "b8f0c4b1",
   "metadata": {},
   "outputs": [
    {
     "ename": "NameError",
     "evalue": "name 'asdf' is not defined",
     "output_type": "error",
     "traceback": [
      "\u001b[0;31m---------------------------------------------------------------------------\u001b[0m",
      "\u001b[0;31mNameError\u001b[0m                                 Traceback (most recent call last)",
      "Cell \u001b[0;32mIn[12], line 1\u001b[0m\n\u001b[0;32m----> 1\u001b[0m \u001b[43masdf\u001b[49m\n",
      "\u001b[0;31mNameError\u001b[0m: name 'asdf' is not defined"
     ]
    }
   ],
   "source": [
    "asdf"
   ]
  },
  {
   "cell_type": "code",
   "execution_count": null,
   "id": "795a5ae2",
   "metadata": {},
   "outputs": [],
   "source": []
  },
  {
   "cell_type": "code",
   "execution_count": null,
   "id": "62dd9940",
   "metadata": {},
   "outputs": [],
   "source": [
    "\n",
    "# breakdown simulation\n",
    "# 1st bond breaking [t=0]\n",
    "solve = equation.solve_init\n",
    "break_edge = failure.break_edge_init\n",
    "solve()\n",
    "break_edge()\n",
    "\n",
    "# 2nd ~ (length)th bond breaking [t=1 ~ t=(length-1)]\n",
    "solve = equation.solve\n",
    "solve_r = equation.solve_r_mmd\n",
    "break_edge = failure.break_edge\n",
    "for _ in range(array.length - 1):\n",
    "    solve_r()\n",
    "    solve()\n",
    "    break_edge()\n",
    "\n",
    "# (length+1)th ~ (macroscopic failure) bond breaking [t=(length) ~ (total number of broken bonds-1)]\n",
    "solve_r = equation.solve_r_amd\n",
    "while solve_r():\n",
    "    solve()\n",
    "    break_edge()\n"
   ]
  }
 ],
 "metadata": {
  "kernelspec": {
   "display_name": "base",
   "language": "python",
   "name": "python3"
  },
  "language_info": {
   "codemirror_mode": {
    "name": "ipython",
    "version": 3
   },
   "file_extension": ".py",
   "mimetype": "text/x-python",
   "name": "python",
   "nbconvert_exporter": "python",
   "pygments_lexer": "ipython3",
   "version": "3.12.2"
  }
 },
 "nbformat": 4,
 "nbformat_minor": 5
}
