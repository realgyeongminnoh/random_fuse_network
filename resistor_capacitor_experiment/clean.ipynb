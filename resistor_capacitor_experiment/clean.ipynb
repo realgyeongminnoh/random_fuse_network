{
 "cells": [
  {
   "cell_type": "code",
   "execution_count": null,
   "id": "e1850f1b",
   "metadata": {},
   "outputs": [],
   "source": [
    "import sys\n",
    "from pathlib import Path\n",
    "# sys.path.insert(0, str(Path.cwd().parent))\n",
    "\n",
    "import numpy as np\n",
    "import matplotlib.pyplot as plt\n",
    "from scipy.sparse import csc_array, bmat\n",
    "from scipy.sparse.linalg import splu, spsolve"
   ]
  },
  {
   "cell_type": "code",
   "execution_count": null,
   "id": "62dd9940",
   "metadata": {},
   "outputs": [],
   "source": []
  }
 ],
 "metadata": {
  "kernelspec": {
   "display_name": "base",
   "language": "python",
   "name": "python3"
  },
  "language_info": {
   "codemirror_mode": {
    "name": "ipython",
    "version": 3
   },
   "file_extension": ".py",
   "mimetype": "text/x-python",
   "name": "python",
   "nbconvert_exporter": "python",
   "pygments_lexer": "ipython3",
   "version": "3.12.2"
  }
 },
 "nbformat": 4,
 "nbformat_minor": 5
}
