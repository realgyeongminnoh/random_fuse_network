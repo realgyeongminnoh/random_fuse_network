{
 "cells": [
  {
   "cell_type": "code",
   "execution_count": 1,
   "id": "14916f3d",
   "metadata": {},
   "outputs": [],
   "source": [
    "from src.utils import Data"
   ]
  },
  {
   "cell_type": "code",
   "execution_count": 2,
   "id": "d7d3ff77",
   "metadata": {},
   "outputs": [
    {
     "name": "stdout",
     "output_type": "stream",
     "text": [
      "/disk/disk3/gyeongmin/project/random_fuse_network/resistor/data\n"
     ]
    }
   ],
   "source": [
    "data_r = Data(model=0, val_cap_time_step=None)\n"
   ]
  },
  {
   "cell_type": "code",
   "execution_count": null,
   "id": "f96db609",
   "metadata": {},
   "outputs": [],
   "source": [
    "data_r = Data(model=0, val_cap_time_step=None)\n",
    "data_rc = Data(model=1, val_cap_time_step=\"1.0_0.01\")"
   ]
  }
 ],
 "metadata": {
  "kernelspec": {
   "display_name": "base",
   "language": "python",
   "name": "python3"
  },
  "language_info": {
   "codemirror_mode": {
    "name": "ipython",
    "version": 3
   },
   "file_extension": ".py",
   "mimetype": "text/x-python",
   "name": "python",
   "nbconvert_exporter": "python",
   "pygments_lexer": "ipython3",
   "version": "3.12.2"
  }
 },
 "nbformat": 4,
 "nbformat_minor": 5
}
