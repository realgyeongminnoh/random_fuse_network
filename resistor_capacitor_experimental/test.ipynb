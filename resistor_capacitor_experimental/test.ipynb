{
 "cells": [
  {
   "cell_type": "code",
   "execution_count": 1,
   "id": "df153eb1",
   "metadata": {},
   "outputs": [],
   "source": [
    "import numpy as np\n",
    "import networkx as nx\n",
    "import matplotlib.pyplot as plt\n",
    "from scipy.sparse.linalg import splu, spsolve\n",
    "\n",
    "from src.array import Array\n",
    "from src.matrix_charge import Matrix as Matrix_charge\n",
    "from src.matrix_discharge import Matrix as Matrix_discharge\n",
    "from src.equation import Equation\n",
    "from src.failure import Failure"
   ]
  },
  {
   "cell_type": "code",
   "execution_count": 2,
   "id": "e1c408ed",
   "metadata": {},
   "outputs": [],
   "source": [
    "length = 30\n",
    "width = 0.5\n",
    "seed = 3\n",
    "val_cap = 1.0\n",
    "time_step = 0.01\n",
    "cond_ext = 1.0\n",
    "mode_analysis = False\n",
    "save_volts_profile = False"
   ]
  },
  {
   "cell_type": "code",
   "execution_count": 3,
   "id": "96a38e23",
   "metadata": {},
   "outputs": [],
   "source": [
    "array = Array(length=length, mode_analysis=mode_analysis)\n",
    "matrix_ch = Matrix_charge(matrix_init=None, array=array, val_cap=val_cap, time_step=time_step)\n",
    "matrix_dch = Matrix_discharge(matrix_init=None, array=array, cond_ext=cond_ext, val_cap=val_cap, time_step=time_step)\n",
    "equation = Equation(array=array, matrix_ch=matrix_ch, matrix_dch=matrix_dch)\n",
    "failure = Failure(array=array, matrix_ch=matrix_ch, matrix_dch=matrix_dch, equation=equation, width=width, seed=seed, save_volts_profile=save_volts_profile)"
   ]
  },
  {
   "cell_type": "code",
   "execution_count": 4,
   "id": "b6d198da",
   "metadata": {},
   "outputs": [],
   "source": [
    "solve_r = equation.solve_r_amd\n",
    "\n",
    "def run_charge_cycle_first(duration_cycle: int) -> bool:\n",
    "    solve = equation.solve_true_init_ch\n",
    "    break_edge = failure.break_edge_init_ch\n",
    "    solve(); break_edge()  # t=0 fresh start\n",
    "\n",
    "    solve = equation.solve_ch\n",
    "    break_edge = failure.break_edge_ch\n",
    "    for _ in range(duration_cycle - 1):\n",
    "        if not solve_r():\n",
    "            return False\n",
    "        solve(); break_edge()\n",
    "    return True\n",
    "\n",
    "def run_charge_cycle_from_dch(duration_cycle: int) -> bool:\n",
    "    if not solve_r(): return False\n",
    "    solve = equation.solve_init_ch\n",
    "    break_edge = failure.break_edge_ch\n",
    "    solve(); break_edge()  # t=0 after D→C (caps nonzero)\n",
    "\n",
    "    solve = equation.solve_ch\n",
    "    break_edge = failure.break_edge_ch\n",
    "    for _ in range(duration_cycle - 1):\n",
    "        if not solve_r():\n",
    "            return False\n",
    "        solve(); break_edge()\n",
    "    return True\n",
    "\n",
    "def run_discharge_cycle(duration_cycle: int) -> bool:\n",
    "    if not solve_r(): return False\n",
    "    solve = equation.solve_init_dch\n",
    "    break_edge = failure.break_edge_dch\n",
    "    solve(); break_edge()  # t=0 for C→D\n",
    "\n",
    "    solve = equation.solve_dch\n",
    "    break_edge = failure.break_edge_dch\n",
    "    for _ in range(duration_cycle - 1):\n",
    "        if not solve_r():\n",
    "            return False\n",
    "        solve(); break_edge()\n",
    "    return True\n"
   ]
  },
  {
   "cell_type": "code",
   "execution_count": 5,
   "id": "18809b2e",
   "metadata": {},
   "outputs": [],
   "source": [
    "duration_charge = array.length // 2\n",
    "duration_discharge = array.length // 2\n",
    "\n",
    "if run_charge_cycle_first(duration_charge):\n",
    "    while run_discharge_cycle(duration_discharge) and run_charge_cycle_from_dch(duration_charge):\n",
    "        pass\n"
   ]
  },
  {
   "cell_type": "code",
   "execution_count": 6,
   "id": "196248c6",
   "metadata": {},
   "outputs": [
    {
     "data": {
      "image/png": "[encoded data removed]",
      "text/plain": [
       "<Figure size 360x360 with 1 Axes>"
      ]
     },
     "metadata": {},
     "output_type": "display_data"
    }
   ],
   "source": [
    "import sys\n",
    "from pathlib import Path\n",
    "sys.path.insert(0, str(Path.cwd().parent))\n",
    "\n",
    "from resistor_capacitor.breakdown import breakdown\n",
    "from analysis.rcc_src_tbc.draw import Draw\n",
    "\n",
    "draw = Draw(array, matrix_ch, equation, failure)\n",
    "draw.graph_initialize(\n",
    "    figsize=(5, 5), dpi=72, size_edge=2, pad_inches=-0.7, \n",
    "    transparent=False, save=False, show=True,\n",
    ")\n",
    "draw.graph_specific(failure.idxs_edge_broken, 0)"
   ]
  },
  {
   "cell_type": "code",
   "execution_count": 7,
   "id": "dd9ce89c",
   "metadata": {},
   "outputs": [
    {
     "ename": "NameError",
     "evalue": "name 'asdf' is not defined",
     "output_type": "error",
     "traceback": [
      "\u001b[0;31m---------------------------------------------------------------------------\u001b[0m",
      "\u001b[0;31mNameError\u001b[0m                                 Traceback (most recent call last)",
      "Cell \u001b[0;32mIn[7], line 1\u001b[0m\n\u001b[0;32m----> 1\u001b[0m \u001b[43masdf\u001b[49m\n",
      "\u001b[0;31mNameError\u001b[0m: name 'asdf' is not defined"
     ]
    }
   ],
   "source": [
    "asdf"
   ]
  },
  {
   "cell_type": "code",
   "execution_count": null,
   "id": "5c4e2d27",
   "metadata": {},
   "outputs": [
    {
     "data": {
      "text/plain": [
       "(array([15, 15, 15, 15, 15, 15, 15, 15, 15, 15, 15, 15, 15, 15, 15, 15, 15,\n",
       "        15, 15]),\n",
       " array([ 0,  0,  0,  0,  0,  1,  0,  0,  0,  0,  0,  2,  7,  3,  4,  5, 13,\n",
       "        15,  2]))"
      ]
     },
     "execution_count": 29,
     "metadata": {},
     "output_type": "execute_result"
    }
   ],
   "source": [
    "def count_broken_per_cycle(failure, duration_charge: int, duration_discharge: int):\n",
    "    t = np.asarray(failure.idxs_time_edge_broken, dtype=np.int64)\n",
    "    if t.size == 0:\n",
    "        return np.array([], int), np.array([], int)\n",
    "    period = duration_charge + duration_discharge\n",
    "    cyc = t // period\n",
    "    is_ch = (t % period) < duration_charge\n",
    "    ncyc = int(cyc.max()) + 1\n",
    "    ch = np.zeros(ncyc, dtype=int)\n",
    "    dch = np.zeros(ncyc, dtype=int)\n",
    "    for c, f in zip(cyc, is_ch):\n",
    "        (ch if f else dch)[c] += 1\n",
    "    return ch, dch\n",
    "count_broken_per_cycle(failure, duration_charge, duration_discharge)"
   ]
  },
  {
   "cell_type": "code",
   "execution_count": null,
   "id": "53918464",
   "metadata": {},
   "outputs": [
    {
     "data": {
      "text/plain": [
       "294"
      ]
     },
     "execution_count": 19,
     "metadata": {},
     "output_type": "execute_result"
    }
   ],
   "source": [
    "len(failure.idxs_edge_broken)"
   ]
  },
  {
   "cell_type": "code",
   "execution_count": null,
   "id": "3234f89c",
   "metadata": {},
   "outputs": [
    {
     "ename": "AttributeError",
     "evalue": "'Failure' object has no attribute 'volts_edge_profile'",
     "output_type": "error",
     "traceback": [
      "\u001b[0;31m---------------------------------------------------------------------------\u001b[0m",
      "\u001b[0;31mAttributeError\u001b[0m                            Traceback (most recent call last)",
      "Cell \u001b[0;32mIn[20], line 2\u001b[0m\n\u001b[1;32m      1\u001b[0m unsigned: \u001b[38;5;28mbool\u001b[39m \u001b[38;5;241m=\u001b[39m \u001b[38;5;28;01mFalse\u001b[39;00m\n\u001b[0;32m----> 2\u001b[0m profile: np\u001b[38;5;241m.\u001b[39mndarray \u001b[38;5;241m=\u001b[39m np\u001b[38;5;241m.\u001b[39marray(\u001b[43mfailure\u001b[49m\u001b[38;5;241;43m.\u001b[39;49m\u001b[43mvolts_edge_profile\u001b[49m, dtype\u001b[38;5;241m=\u001b[39mnp\u001b[38;5;241m.\u001b[39mfloat64)\u001b[38;5;241m.\u001b[39mtranspose() \u001b[38;5;66;03m# [edge, time]\u001b[39;00m\n\u001b[1;32m      3\u001b[0m \u001b[38;5;28;01mif\u001b[39;00m unsigned: np\u001b[38;5;241m.\u001b[39mabs(profile, out\u001b[38;5;241m=\u001b[39mprofile)\n\u001b[1;32m      4\u001b[0m idxs_edge_broken: np\u001b[38;5;241m.\u001b[39mndarray \u001b[38;5;241m=\u001b[39m np\u001b[38;5;241m.\u001b[39marray(failure\u001b[38;5;241m.\u001b[39midxs_edge_broken, dtype\u001b[38;5;241m=\u001b[39mnp\u001b[38;5;241m.\u001b[39mint32)\n",
      "\u001b[0;31mAttributeError\u001b[0m: 'Failure' object has no attribute 'volts_edge_profile'"
     ]
    }
   ],
   "source": [
    "unsigned: bool = False\n",
    "profile: np.ndarray = np.array(failure.volts_edge_profile, dtype=np.float64).transpose() # [edge, time]\n",
    "if unsigned: np.abs(profile, out=profile)\n",
    "idxs_edge_broken: np.ndarray = np.array(failure.idxs_edge_broken, dtype=np.int32)\n",
    "num_edge, num_time = profile.shape\n",
    "\n",
    "for idx_time, idx_edge_broken in zip(failure.idxs_time_edge_broken, idxs_edge_broken):\n",
    "    profile[idx_edge_broken, (idx_time + 1):] = np.nan\n",
    "\n",
    "size_obj = 0.5\n",
    "fig, ax = plt.subplots(1, 1, figsize=(5, 5), dpi=72)\n",
    "\n",
    "ax.scatter(0, profile[idxs_edge_broken[0], 0], c=\"red\", s=size_obj, zorder=num_edge)\n",
    "for idx_edge, votls_per_edge in enumerate(profile):\n",
    "    if idx_edge in idxs_edge_broken:\n",
    "        ax.plot(range(num_time), votls_per_edge, c=\"red\", lw=size_obj, zorder=num_edge)\n",
    "    else:\n",
    "        ax.plot(range(num_time), votls_per_edge, c=\"black\", lw=size_obj)\n",
    "\n",
    "# ax.set_xlim(2, 11)\n",
    "# ax.set_ylim(-0.01, 0.01)\n",
    "\n",
    "plt.tight_layout()\n",
    "plt.show()\n"
   ]
  },
  {
   "cell_type": "code",
   "execution_count": null,
   "id": "d1eca0be",
   "metadata": {},
   "outputs": [],
   "source": [
    "import sys\n",
    "from pathlib import Path\n",
    "sys.path.insert(0, str(Path.cwd().parent))\n",
    "\n",
    "from resistor_capacitor.breakdown import breakdown\n",
    "from analysis.rcc_src_tbc.draw import Draw\n"
   ]
  },
  {
   "cell_type": "code",
   "execution_count": null,
   "id": "4b420d6a",
   "metadata": {},
   "outputs": [
    {
     "data": {
      "text/plain": [
       "False"
      ]
     },
     "execution_count": 21,
     "metadata": {},
     "output_type": "execute_result"
    }
   ],
   "source": [
    "np.array_equal(list(set(failure.idxs_edge_broken)), list(set(breakdown(length, width, seed, val_cap, time_step)[-1].idxs_edge_broken)))"
   ]
  },
  {
   "cell_type": "code",
   "execution_count": null,
   "id": "83aa97e2",
   "metadata": {},
   "outputs": [
    {
     "data": {
      "text/plain": [
       "(487, 294)"
      ]
     },
     "execution_count": 22,
     "metadata": {},
     "output_type": "execute_result"
    }
   ],
   "source": [
    "len(breakdown(length, width, seed, val_cap, time_step)[-1].idxs_edge_broken), len(failure.idxs_edge_broken)"
   ]
  },
  {
   "cell_type": "code",
   "execution_count": null,
   "id": "b3be80be",
   "metadata": {},
   "outputs": [
    {
     "data": {
      "text/plain": [
       "[<matplotlib.lines.Line2D at 0x7a5d30164350>]"
      ]
     },
     "execution_count": 23,
     "metadata": {},
     "output_type": "execute_result"
    },
    {
     "data": {
      "image/png": "[encoded data removed]",
      "text/plain": [
       "<Figure size 640x480 with 1 Axes>"
      ]
     },
     "metadata": {},
     "output_type": "display_data"
    }
   ],
   "source": [
    "plt.plot(breakdown(length, width, seed, val_cap, time_step)[-1].volts_ext)\n",
    "# plt.plot(np.array(failure.volts_ext)[~np.isnan(failure.volts_ext)])\n",
    "plt.plot(failure.volts_ext)"
   ]
  },
  {
   "cell_type": "code",
   "execution_count": null,
   "id": "8eb28b9e",
   "metadata": {},
   "outputs": [
    {
     "data": {
      "image/png": "[encoded data removed]",
      "text/plain": [
       "<Figure size 360x360 with 1 Axes>"
      ]
     },
     "metadata": {},
     "output_type": "display_data"
    }
   ],
   "source": [
    "draw = Draw(array, matrix_ch, equation, failure)\n",
    "draw.graph_initialize(\n",
    "    figsize=(5, 5), dpi=72, size_edge=2, pad_inches=-0.7, \n",
    "    transparent=False, save=False, show=True,\n",
    ")\n",
    "draw.graph_specific(failure.idxs_edge_broken, 0)"
   ]
  },
  {
   "cell_type": "code",
   "execution_count": null,
   "id": "311934ae",
   "metadata": {},
   "outputs": [
    {
     "data": {
      "image/png": "[encoded data removed]",
      "text/plain": [
       "<Figure size 360x360 with 1 Axes>"
      ]
     },
     "metadata": {},
     "output_type": "display_data"
    }
   ],
   "source": [
    "draw = Draw(*breakdown(length, width, seed, val_cap, time_step))\n",
    "draw.graph_initialize(\n",
    "    figsize=(5, 5), dpi=72, size_edge=2, pad_inches=-0.7, \n",
    "    transparent=False, save=False, show=True,\n",
    ")\n",
    "draw.graph_specific(failure.idxs_edge_broken, 0)"
   ]
  },
  {
   "cell_type": "markdown",
   "id": "817b17d3",
   "metadata": {},
   "source": [
    "---"
   ]
  },
  {
   "cell_type": "code",
   "execution_count": null,
   "id": "3cf6912b",
   "metadata": {},
   "outputs": [],
   "source": [
    "# failure_rcc.idxs_edge_broken, failure_rcc.volts_ext"
   ]
  },
  {
   "cell_type": "code",
   "execution_count": null,
   "id": "1fd7e5bc",
   "metadata": {},
   "outputs": [],
   "source": [
    "# # breakdown simulation\n",
    "# # 1st bond breaking [t=0]\n",
    "# solve = equation.solve_init\n",
    "# break_edge = failure.break_edge_init\n",
    "# solve()\n",
    "# break_edge()\n",
    "\n",
    "# # 2nd ~ (length)th bond breaking [t=1 ~ t=(length-1)]\n",
    "# solve = equation.solve\n",
    "# solve_r = equation.solve_r_mmd\n",
    "# break_edge = failure.break_edge\n",
    "# for _ in range(array.length - 1):\n",
    "#     solve_r()\n",
    "#     solve()\n",
    "#     break_edge()\n",
    "\n",
    "# # (length+1)th ~ (macroscopic failure) bond breaking [t=(length) ~ (total number of broken bonds-1)]\n",
    "# solve_r = equation.solve_r_amd\n",
    "# while solve_r():\n",
    "#     solve()\n",
    "#     break_edge()"
   ]
  },
  {
   "cell_type": "code",
   "execution_count": null,
   "id": "c40d904a",
   "metadata": {},
   "outputs": [
    {
     "ename": "ValueError",
     "evalue": "(2.0, 4)",
     "output_type": "error",
     "traceback": [
      "\u001b[0;31m---------------------------------------------------------------------------\u001b[0m",
      "\u001b[0;31mMatrixRankWarning\u001b[0m                         Traceback (most recent call last)",
      "Cell \u001b[0;32mIn[1], line 106\u001b[0m\n\u001b[1;32m    105\u001b[0m \u001b[38;5;28;01mtry\u001b[39;00m:\n\u001b[0;32m--> 106\u001b[0m     rec \u001b[38;5;241m=\u001b[39m \u001b[43mrun_one\u001b[49m\u001b[43m(\u001b[49m\u001b[43mw\u001b[49m\u001b[43m,\u001b[49m\u001b[43m \u001b[49m\u001b[43ms\u001b[49m\u001b[43m)\u001b[49m\n\u001b[1;32m    107\u001b[0m \u001b[38;5;28;01mexcept\u001b[39;00m:\n\u001b[1;32m    108\u001b[0m     \u001b[38;5;66;03m# print(w, s)\u001b[39;00m\n",
      "Cell \u001b[0;32mIn[1], line 81\u001b[0m, in \u001b[0;36mrun_one\u001b[0;34m(width, seed)\u001b[0m\n\u001b[1;32m     79\u001b[0m \u001b[38;5;28;01mif\u001b[39;00m run_charge_cycle_first(equation, failure, duration_charge, solve_r):\n\u001b[1;32m     80\u001b[0m     \u001b[38;5;28;01mwhile\u001b[39;00m run_discharge_cycle(equation, failure, duration_discharge, solve_r) \u001b[38;5;129;01mand\u001b[39;00m \\\n\u001b[0;32m---> 81\u001b[0m           \u001b[43mrun_charge_cycle_from_dch\u001b[49m\u001b[43m(\u001b[49m\u001b[43mequation\u001b[49m\u001b[43m,\u001b[49m\u001b[43m \u001b[49m\u001b[43mfailure\u001b[49m\u001b[43m,\u001b[49m\u001b[43m \u001b[49m\u001b[43mduration_charge\u001b[49m\u001b[43m,\u001b[49m\u001b[43m \u001b[49m\u001b[43msolve_r\u001b[49m\u001b[43m)\u001b[49m:\n\u001b[1;32m     82\u001b[0m         \u001b[38;5;28;01mpass\u001b[39;00m\n",
      "Cell \u001b[0;32mIn[1], line 44\u001b[0m, in \u001b[0;36mrun_charge_cycle_from_dch\u001b[0;34m(equation, failure, duration_cycle, solve_r)\u001b[0m\n\u001b[1;32m     43\u001b[0m break_edge \u001b[38;5;241m=\u001b[39m failure\u001b[38;5;241m.\u001b[39mbreak_edge_ch\n\u001b[0;32m---> 44\u001b[0m \u001b[43msolve\u001b[49m\u001b[43m(\u001b[49m\u001b[43m)\u001b[49m; break_edge()\n\u001b[1;32m     45\u001b[0m solve \u001b[38;5;241m=\u001b[39m equation\u001b[38;5;241m.\u001b[39msolve_ch\n",
      "File \u001b[0;32m~/project/random_fuse_network/resistor_capacitor_experimental/src/equation.py:65\u001b[0m, in \u001b[0;36mEquation.solve_init_ch\u001b[0;34m(self)\u001b[0m\n\u001b[1;32m     64\u001b[0m \u001b[38;5;28mself\u001b[39m\u001b[38;5;241m.\u001b[39mvec_rhs_div[\u001b[38;5;28mself\u001b[39m\u001b[38;5;241m.\u001b[39mmatrix_ch\u001b[38;5;241m.\u001b[39msize_div_comb:\u001b[38;5;28mself\u001b[39m\u001b[38;5;241m.\u001b[39mmatrix_ch\u001b[38;5;241m.\u001b[39msize_div_comb \u001b[38;5;241m+\u001b[39m \u001b[38;5;28mself\u001b[39m\u001b[38;5;241m.\u001b[39marray\u001b[38;5;241m.\u001b[39mlength] \u001b[38;5;241m-\u001b[39m\u001b[38;5;241m=\u001b[39m \u001b[38;5;28mself\u001b[39m\u001b[38;5;241m.\u001b[39mvolt_ext\n\u001b[0;32m---> 65\u001b[0m \u001b[38;5;28mself\u001b[39m\u001b[38;5;241m.\u001b[39mvolts_node_div[:] \u001b[38;5;241m=\u001b[39m \u001b[43mspsolve\u001b[49m\u001b[43m(\u001b[49m\u001b[38;5;28;43mself\u001b[39;49m\u001b[38;5;241;43m.\u001b[39;49m\u001b[43mmatrix_ch\u001b[49m\u001b[38;5;241;43m.\u001b[39;49m\u001b[43mdiv_block\u001b[49m\u001b[43m,\u001b[49m\u001b[43m \u001b[49m\u001b[38;5;28;43mself\u001b[39;49m\u001b[38;5;241;43m.\u001b[39;49m\u001b[43mvec_rhs_div\u001b[49m\u001b[43m,\u001b[49m\u001b[43m \u001b[49m\u001b[43mpermc_spec\u001b[49m\u001b[38;5;241;43m=\u001b[39;49m\u001b[38;5;124;43m\"\u001b[39;49m\u001b[38;5;124;43mMMD_ATA\u001b[39;49m\u001b[38;5;124;43m\"\u001b[39;49m\u001b[43m)\u001b[49m[:\u001b[38;5;28mself\u001b[39m\u001b[38;5;241m.\u001b[39mmatrix_ch\u001b[38;5;241m.\u001b[39msize_div_comb]\n",
      "File \u001b[0;32m~/miniconda3/lib/python3.12/site-packages/scipy/sparse/linalg/_dsolve/linsolve.py:296\u001b[0m, in \u001b[0;36mspsolve\u001b[0;34m(A, b, permc_spec, use_umfpack)\u001b[0m\n\u001b[1;32m    295\u001b[0m \u001b[38;5;28;01mif\u001b[39;00m info \u001b[38;5;241m!=\u001b[39m \u001b[38;5;241m0\u001b[39m:\n\u001b[0;32m--> 296\u001b[0m     \u001b[43mwarn\u001b[49m\u001b[43m(\u001b[49m\u001b[38;5;124;43m\"\u001b[39;49m\u001b[38;5;124;43mMatrix is exactly singular\u001b[39;49m\u001b[38;5;124;43m\"\u001b[39;49m\u001b[43m,\u001b[49m\u001b[43m \u001b[49m\u001b[43mMatrixRankWarning\u001b[49m\u001b[43m,\u001b[49m\u001b[43m \u001b[49m\u001b[43mstacklevel\u001b[49m\u001b[38;5;241;43m=\u001b[39;49m\u001b[38;5;241;43m2\u001b[39;49m\u001b[43m)\u001b[49m\n\u001b[1;32m    297\u001b[0m     x\u001b[38;5;241m.\u001b[39mfill(np\u001b[38;5;241m.\u001b[39mnan)\n",
      "\u001b[0;31mMatrixRankWarning\u001b[0m: Matrix is exactly singular",
      "\nDuring handling of the above exception, another exception occurred:\n",
      "\u001b[0;31mValueError\u001b[0m                                Traceback (most recent call last)",
      "Cell \u001b[0;32mIn[1], line 109\u001b[0m\n\u001b[1;32m    106\u001b[0m             rec \u001b[38;5;241m=\u001b[39m run_one(w, s)\n\u001b[1;32m    107\u001b[0m         \u001b[38;5;28;01mexcept\u001b[39;00m:\n\u001b[1;32m    108\u001b[0m             \u001b[38;5;66;03m# print(w, s)\u001b[39;00m\n\u001b[0;32m--> 109\u001b[0m             \u001b[38;5;28;01mraise\u001b[39;00m \u001b[38;5;167;01mValueError\u001b[39;00m(w, s)\n\u001b[1;32m    110\u001b[0m         records\u001b[38;5;241m.\u001b[39mappend(rec)\n\u001b[1;32m    112\u001b[0m \u001b[38;5;66;03m# example: quick summary table (width → averages)\u001b[39;00m\n",
      "\u001b[0;31mValueError\u001b[0m: (2.0, 4)"
     ]
    }
   ],
   "source": [
    "import numpy as np\n",
    "\n",
    "from src.array import Array\n",
    "from src.matrix_charge import Matrix as Matrix_charge\n",
    "from src.matrix_discharge import Matrix as Matrix_discharge\n",
    "from src.equation import Equation\n",
    "from src.failure import Failure\n",
    "\n",
    "length = 30\n",
    "val_cap = 0.01\n",
    "time_step = 0.01\n",
    "cond_ext = 100.0\n",
    "mode_analysis = False\n",
    "save_volts_profile = False\n",
    "\n",
    "def count_broken_by_cycle(failure: Failure, duration_charge: int, duration_discharge: int):\n",
    "    t = np.asarray(failure.idxs_time_edge_broken, dtype=np.int64)\n",
    "    if t.size == 0:\n",
    "        return 0, 0\n",
    "    period = duration_charge + duration_discharge\n",
    "    r = t % period\n",
    "    is_ch = r < duration_charge\n",
    "    num_ch  = int(is_ch.sum())\n",
    "    num_dch = int((~is_ch).sum())\n",
    "    return num_ch, num_dch\n",
    "\n",
    "def run_charge_cycle_first(equation: Equation, failure: Failure, duration_cycle: int, solve_r) -> bool:\n",
    "    solve = equation.solve_true_init_ch\n",
    "    break_edge = failure.break_edge_init_ch\n",
    "    solve(); break_edge()\n",
    "    solve = equation.solve_ch\n",
    "    break_edge = failure.break_edge_ch\n",
    "    for _ in range(duration_cycle - 1):\n",
    "        if not solve_r():\n",
    "            return False\n",
    "        solve(); break_edge()\n",
    "    return True\n",
    "\n",
    "def run_charge_cycle_from_dch(equation: Equation, failure: Failure, duration_cycle: int, solve_r) -> bool:\n",
    "    if not solve_r():\n",
    "        return False\n",
    "    solve = equation.solve_init_ch\n",
    "    break_edge = failure.break_edge_ch\n",
    "    solve(); break_edge()\n",
    "    solve = equation.solve_ch\n",
    "    break_edge = failure.break_edge_ch\n",
    "    for _ in range(duration_cycle - 1):\n",
    "        if not solve_r():\n",
    "            return False\n",
    "        solve(); break_edge()\n",
    "    return True\n",
    "\n",
    "def run_discharge_cycle(equation: Equation, failure: Failure, duration_cycle: int, solve_r) -> bool:\n",
    "    if not solve_r():\n",
    "        return False\n",
    "    solve = equation.solve_init_dch\n",
    "    break_edge = failure.break_edge_dch\n",
    "    solve(); break_edge()\n",
    "    solve = equation.solve_dch\n",
    "    break_edge = failure.break_edge_dch\n",
    "    for _ in range(duration_cycle - 1):\n",
    "        if not solve_r():\n",
    "            return False\n",
    "        solve(); break_edge()\n",
    "    return True\n",
    "\n",
    "def run_one(width: float, seed: int):\n",
    "    array = Array(length=length, mode_analysis=mode_analysis)\n",
    "    matrix_ch = Matrix_charge(matrix_init=None, array=array, val_cap=val_cap, time_step=time_step)\n",
    "    matrix_dch = Matrix_discharge(matrix_init=None, array=array, cond_ext=cond_ext, val_cap=val_cap, time_step=time_step)\n",
    "    equation = Equation(array=array, matrix_ch=matrix_ch, matrix_dch=matrix_dch)\n",
    "    failure = Failure(array=array, matrix_ch=matrix_ch, matrix_dch=matrix_dch,\n",
    "                      equation=equation, width=width, seed=seed, save_volts_profile=save_volts_profile)\n",
    "\n",
    "    solve_r = equation.solve_r_amd\n",
    "    duration_charge = array.length // 2\n",
    "    duration_discharge = array.length // 2\n",
    "\n",
    "    if run_charge_cycle_first(equation, failure, duration_charge, solve_r):\n",
    "        while run_discharge_cycle(equation, failure, duration_discharge, solve_r) and \\\n",
    "              run_charge_cycle_from_dch(equation, failure, duration_charge, solve_r):\n",
    "            pass\n",
    "\n",
    "    num_broken_total = len(failure.idxs_edge_broken)\n",
    "    num_ch, num_dch = count_broken_by_cycle(failure, duration_charge, duration_discharge)\n",
    "    cycles_endured = failure.counter_time_step // (duration_charge + duration_discharge)\n",
    "\n",
    "    return {\n",
    "        \"width\": float(width),\n",
    "        \"seed\": int(seed),\n",
    "        \"volts_ext\": list(failure.volts_ext),  # includes NaNs during discharge (by your design)\n",
    "        \"num_broken_total\": int(num_broken_total),\n",
    "        \"num_broken_charge\": int(num_ch),\n",
    "        \"num_broken_discharge\": int(num_dch),\n",
    "        \"cycles_endured\": int(cycles_endured),\n",
    "    }\n",
    "\n",
    "# ensemble\n",
    "widths = [2.0]\n",
    "seeds = range(10)\n",
    "\n",
    "records = []\n",
    "for w in widths:\n",
    "    for s in seeds:\n",
    "        try:\n",
    "            rec = run_one(w, s)\n",
    "        except:\n",
    "            # print(w, s)\n",
    "            raise ValueError(w, s)\n",
    "        records.append(rec)\n",
    "\n",
    "# example: quick summary table (width → averages)\n",
    "summary = {}\n",
    "for w in widths:\n",
    "    sub = [r for r in records if r[\"width\"] == w]\n",
    "    summary[w] = {\n",
    "        \"avg_total\": float(np.mean([r[\"num_broken_total\"] for r in sub])) if sub else 0.0,\n",
    "        \"avg_ch\":    float(np.mean([r[\"num_broken_charge\"] for r in sub])) if sub else 0.0,\n",
    "        \"avg_dch\":   float(np.mean([r[\"num_broken_discharge\"] for r in sub])) if sub else 0.0,\n",
    "        \"avg_cycles\":float(np.mean([r[\"cycles_endured\"] for r in sub])) if sub else 0.0,\n",
    "    }\n",
    "\n",
    "print(\"summary:\", summary)\n",
    "# 'records' now contains 400 dicts with the requested fields\n"
   ]
  }
 ],
 "metadata": {
  "kernelspec": {
   "display_name": "base",
   "language": "python",
   "name": "python3"
  },
  "language_info": {
   "codemirror_mode": {
    "name": "ipython",
    "version": 3
   },
   "file_extension": ".py",
   "mimetype": "text/x-python",
   "name": "python",
   "nbconvert_exporter": "python",
   "pygments_lexer": "ipython3",
   "version": "3.12.2"
  }
 },
 "nbformat": 4,
 "nbformat_minor": 5
}
