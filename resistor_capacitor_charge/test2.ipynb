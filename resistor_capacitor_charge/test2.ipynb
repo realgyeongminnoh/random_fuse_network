{
 "cells": [
  {
   "cell_type": "code",
   "execution_count": 1,
   "id": "f584ea9e",
   "metadata": {},
   "outputs": [],
   "source": [
    "from pathlib import Path\n",
    "import numpy as np\n",
    "import matplotlib.pyplot as plt\n",
    "\n",
    "from src.array import Array\n",
    "from src.matrix import Matrix\n",
    "from src.equation import Equation\n",
    "from src.failure import Failure\n",
    "\n",
    "from src.array_new import Array as Array_new\n",
    "from src.matrix_new import Matrix as Matrix_new\n",
    "from src.equation_new import Equation as Equation_new\n",
    "from src.failure_new import Failure as Failure_new"
   ]
  },
  {
   "cell_type": "code",
   "execution_count": 2,
   "id": "fc24c153",
   "metadata": {},
   "outputs": [],
   "source": [
    "def test1(array, matrix_init, width, seed):\n",
    "    matrix = Matrix(matrix_init=matrix_init, array=None)\n",
    "    equation = Equation(array=array, matrix=matrix, save_volts_profile=True)\n",
    "    failure = Failure(array=array, matrix=matrix, equation=equation, width=width, seed=seed, save_volts_profile=True)\n",
    "\n",
    "    solve = equation.solve_init\n",
    "    break_edge = failure.break_edge_init\n",
    "    solve()\n",
    "    break_edge()\n",
    "\n",
    "    solve = equation.solve\n",
    "    solve_r = equation.solve_r_mmd\n",
    "    break_edge = failure.break_edge\n",
    "    for _ in range(array.length - 1):\n",
    "        solve_r()\n",
    "        solve()\n",
    "        break_edge()\n",
    "\n",
    "    solve_r = equation.solve_r_amd\n",
    "    while solve_r():\n",
    "        solve()\n",
    "        break_edge()\n",
    "\n",
    "    return matrix, equation, failure"
   ]
  },
  {
   "cell_type": "code",
   "execution_count": 3,
   "id": "88daa7da",
   "metadata": {},
   "outputs": [],
   "source": [
    "def test2(array_new, matrix_init_new, width, seed):\n",
    "    matrix_new = Matrix_new(matrix_init=matrix_init_new, array=None)\n",
    "    equation_new = Equation_new(array=array_new, matrix=matrix_new, save_volts_profile=True)\n",
    "    failure_new = Failure_new(array=array_new, matrix=matrix_new, equation=equation_new, width=width, seed=seed, save_volts_profile=True)\n",
    "\n",
    "    #\n",
    "    solve_new = equation_new.solve_init\n",
    "    break_edge_new = failure_new.break_edge_init\n",
    "    solve_new()\n",
    "    break_edge_new()\n",
    "\n",
    "    solve_new = equation_new.solve\n",
    "    solve_r_new = equation_new.solve_r_mmd\n",
    "    break_edge_new = failure_new.break_edge\n",
    "    for _ in range(array_new.length - 1):\n",
    "        solve_r_new()\n",
    "        solve_new()\n",
    "        break_edge_new()\n",
    "\n",
    "    solve_r_new = equation_new.solve_r_amd\n",
    "    while solve_r_new():\n",
    "        solve_new()\n",
    "        break_edge_new()\n",
    "\n",
    "    return matrix_new, equation_new, failure_new"
   ]
  },
  {
   "cell_type": "code",
   "execution_count": 4,
   "id": "33081de7",
   "metadata": {},
   "outputs": [],
   "source": [
    "def check_matrix_init(matrix_init, matrix_init_new, length, width, seed, val_cap, time_step):\n",
    "    try:\n",
    "        if not (\n",
    "            np.all(matrix_init.cond.data == matrix_init_new.cond.data)\n",
    "            and\n",
    "            np.all(matrix_init.div_cap.data == matrix_init_new.div_cap.data)\n",
    "            and\n",
    "            np.all(matrix_init.div_comb.data == matrix_init_new.div_comb.data)\n",
    "        ): return (1, length, width, seed, val_cap, time_step)\n",
    "    except: return (-1, length, width, seed, val_cap, time_step)"
   ]
  },
  {
   "cell_type": "code",
   "execution_count": 5,
   "id": "3b5cf65f",
   "metadata": {},
   "outputs": [],
   "source": [
    "def check_data_vs_test(failure, length, width, seed, val_cap, time_step):\n",
    "    path_seed = Path.cwd() / \"data\" / str(length) / str(width)/ f\"{val_cap}_{time_step}\" / str(seed)\n",
    "    if not path_seed.exists(): return None # filter eg l =  3\n",
    "    try:\n",
    "        if not (\n",
    "            np.all(np.array(failure.volts_ext) == np.load(path_seed / \"volts_ext.npy\"))\n",
    "            and\n",
    "            np.all(np.array(failure.idxs_edge_broken) == np.load(path_seed / \"idxs_edge_broken.npy\"))\n",
    "        ): return (2, length, width, seed, val_cap, time_step)\n",
    "    except: return (-2, length, width, seed, val_cap, time_step) # length no match"
   ]
  },
  {
   "cell_type": "code",
   "execution_count": 6,
   "id": "7afb2c6b",
   "metadata": {},
   "outputs": [],
   "source": [
    "def check_matrix(matrix, matrix_new, length, width, seed, val_cap, time_step):\n",
    "    try:\n",
    "        if not (\n",
    "            np.all(matrix.cond.data == matrix_new.cond.data)\n",
    "            and\n",
    "            np.all(matrix.div_cap.data == matrix_new.div_cap.data)\n",
    "            and\n",
    "            np.all(matrix.div_comb.data == matrix_new.div_comb.data)\n",
    "        ): return (3, length, width, seed, val_cap, time_step)\n",
    "    except: return (-3, length, width, seed, val_cap, time_step)"
   ]
  },
  {
   "cell_type": "code",
   "execution_count": 7,
   "id": "72aeceb0",
   "metadata": {},
   "outputs": [],
   "source": [
    "def check_primary_data(failure, failure_new, length, width, seed, val_cap, time_step):\n",
    "    try:\n",
    "        if not (\n",
    "            np.all(np.array(failure.volts_ext) == np.array(failure_new.volts_ext))\n",
    "            and\n",
    "            np.all(np.array(failure.idxs_edge_broken) == np.array(failure_new.idxs_edge_broken))\n",
    "        ): return (4, length, width, seed, val_cap, time_step)\n",
    "    except: return (-4, length, width, seed, val_cap, time_step)"
   ]
  },
  {
   "cell_type": "code",
   "execution_count": 8,
   "id": "271c91a8",
   "metadata": {},
   "outputs": [],
   "source": [
    "def check_secondary_data(failure, failure_new, length, width, seed, val_cap, time_step):\n",
    "    try:\n",
    "        if not (\n",
    "            np.all(np.array(failure.volts_cap_profile) == np.array(failure_new.volts_cap_profile))\n",
    "            and\n",
    "            np.all(np.array(failure.volts_cond_profile) == np.array(failure_new.volts_cond_profile)) ############## failuire_new * -1 ? \n",
    "            and\n",
    "            np.all(np.array(failure.volts_edge_profile) == np.array(failure_new.volts_edge_profile))\n",
    "        ): return (5, length, width, seed, val_cap, time_step)\n",
    "    except: return (-5, length, width, seed, val_cap, time_step)"
   ]
  },
  {
   "cell_type": "markdown",
   "id": "18d58154",
   "metadata": {},
   "source": [
    "---"
   ]
  },
  {
   "cell_type": "code",
   "execution_count": 9,
   "id": "43c751b8",
   "metadata": {},
   "outputs": [],
   "source": [
    "checks = []"
   ]
  },
  {
   "cell_type": "markdown",
   "id": "af540113",
   "metadata": {},
   "source": [
    "---"
   ]
  },
  {
   "cell_type": "code",
   "execution_count": null,
   "id": "8974bceb",
   "metadata": {},
   "outputs": [
    {
     "name": "stdout",
     "output_type": "stream",
     "text": [
      "(10, 0.25) 0\n",
      "(10, 0.5) 0\n",
      "(10, 0.75) 0\n",
      "(10, 1.0) 0\n",
      "(10, 1.25) 0\n",
      "(10, 1.5) 0\n"
     ]
    },
    {
     "ename": "KeyboardInterrupt",
     "evalue": "",
     "output_type": "error",
     "traceback": [
      "\u001b[0;31m---------------------------------------------------------------------------\u001b[0m",
      "\u001b[0;31mKeyboardInterrupt\u001b[0m                         Traceback (most recent call last)",
      "Cell \u001b[0;32mIn[10], line 25\u001b[0m\n\u001b[1;32m     22\u001b[0m check_2 \u001b[38;5;241m=\u001b[39m check_data_vs_test(failure, length, width, seed, val_cap, time_step)\n\u001b[1;32m     23\u001b[0m \u001b[38;5;28;01mif\u001b[39;00m check_2 \u001b[38;5;129;01mis\u001b[39;00m \u001b[38;5;129;01mnot\u001b[39;00m \u001b[38;5;28;01mNone\u001b[39;00m: checks\u001b[38;5;241m.\u001b[39mappend(check_2)\n\u001b[0;32m---> 25\u001b[0m matrix_new, equation_new, failure_new \u001b[38;5;241m=\u001b[39m \u001b[43mtest2\u001b[49m\u001b[43m(\u001b[49m\u001b[43marray_new\u001b[49m\u001b[43m,\u001b[49m\u001b[43m \u001b[49m\u001b[43mmatrix_init_new\u001b[49m\u001b[43m,\u001b[49m\u001b[43m \u001b[49m\u001b[43mwidth\u001b[49m\u001b[43m,\u001b[49m\u001b[43m \u001b[49m\u001b[43mseed\u001b[49m\u001b[43m)\u001b[49m\n\u001b[1;32m     27\u001b[0m \u001b[38;5;66;03m# CHECK 3\u001b[39;00m\n\u001b[1;32m     28\u001b[0m check_3 \u001b[38;5;241m=\u001b[39m check_matrix(matrix, matrix_new, length, width, seed, val_cap, time_step)\n",
      "Cell \u001b[0;32mIn[3], line 18\u001b[0m, in \u001b[0;36mtest2\u001b[0;34m(array_new, matrix_init_new, width, seed)\u001b[0m\n\u001b[1;32m     16\u001b[0m     solve_r_new()\n\u001b[1;32m     17\u001b[0m     solve_new()\n\u001b[0;32m---> 18\u001b[0m     \u001b[43mbreak_edge_new\u001b[49m\u001b[43m(\u001b[49m\u001b[43m)\u001b[49m\n\u001b[1;32m     20\u001b[0m solve_r_new \u001b[38;5;241m=\u001b[39m equation_new\u001b[38;5;241m.\u001b[39msolve_r_amd\n\u001b[1;32m     21\u001b[0m \u001b[38;5;28;01mwhile\u001b[39;00m solve_r_new():\n",
      "File \u001b[0;32m~/project/random_fuse_network/resistor_capacitor_charge/src/failure_new.py:239\u001b[0m, in \u001b[0;36mFailure.break_edge\u001b[0;34m(self)\u001b[0m\n\u001b[1;32m    236\u001b[0m idx_edge_broken \u001b[38;5;241m=\u001b[39m \u001b[38;5;28mself\u001b[39m\u001b[38;5;241m.\u001b[39m_find_edge_broken_leaf_proof(stresses_edge_neg)\n\u001b[1;32m    238\u001b[0m \u001b[38;5;28;01mif\u001b[39;00m stresses_edge_neg[idx_edge_broken] \u001b[38;5;241m<\u001b[39m\u001b[38;5;241m=\u001b[39m \u001b[38;5;241m0\u001b[39m:\n\u001b[0;32m--> 239\u001b[0m     \u001b[38;5;28;43mself\u001b[39;49m\u001b[38;5;241;43m.\u001b[39;49m\u001b[43m_update_matrix\u001b[49m\u001b[43m(\u001b[49m\u001b[43midx_edge_broken\u001b[49m\u001b[43m)\u001b[49m\n\u001b[1;32m    240\u001b[0m     \u001b[38;5;28mself\u001b[39m\u001b[38;5;241m.\u001b[39midxs_edge_broken\u001b[38;5;241m.\u001b[39mappend(idx_edge_broken)\n\u001b[1;32m    242\u001b[0m     \u001b[38;5;28mself\u001b[39m\u001b[38;5;241m.\u001b[39mequation\u001b[38;5;241m.\u001b[39mvolts_node_div_prev \u001b[38;5;241m=\u001b[39m \u001b[38;5;28;01mNone\u001b[39;00m\n",
      "File \u001b[0;32m~/project/random_fuse_network/resistor_capacitor_charge/src/failure_new.py:155\u001b[0m, in \u001b[0;36mFailure._update_matrix\u001b[0;34m(self, idx_edge_broken)\u001b[0m\n\u001b[1;32m    153\u001b[0m     div_comb[idx_node1_new, idx_node1_new] \u001b[38;5;241m-\u001b[39m\u001b[38;5;241m=\u001b[39m time_step\n\u001b[1;32m    154\u001b[0m     div_comb[idx_node2_new, idx_node2_new] \u001b[38;5;241m-\u001b[39m\u001b[38;5;241m=\u001b[39m time_step\n\u001b[0;32m--> 155\u001b[0m     \u001b[43mdiv_comb\u001b[49m\u001b[43m[\u001b[49m\u001b[43midx_node1_new\u001b[49m\u001b[43m,\u001b[49m\u001b[43m \u001b[49m\u001b[43midx_node2_new\u001b[49m\u001b[43m]\u001b[49m \u001b[38;5;241m+\u001b[39m\u001b[38;5;241m=\u001b[39m time_step\n\u001b[1;32m    156\u001b[0m     div_comb[idx_node2_new, idx_node1_new] \u001b[38;5;241m+\u001b[39m\u001b[38;5;241m=\u001b[39m time_step\n\u001b[1;32m    158\u001b[0m idx_node1, idx_node2 \u001b[38;5;241m=\u001b[39m array\u001b[38;5;241m.\u001b[39medges[idx_edge_broken]\n",
      "File \u001b[0;32m~/miniconda3/lib/python3.12/site-packages/scipy/sparse/_index.py:102\u001b[0m, in \u001b[0;36mIndexMixin.__setitem__\u001b[0;34m(self, key, x)\u001b[0m\n\u001b[1;32m    101\u001b[0m \u001b[38;5;28;01mdef\u001b[39;00m \u001b[38;5;21m__setitem__\u001b[39m(\u001b[38;5;28mself\u001b[39m, key, x):\n\u001b[0;32m--> 102\u001b[0m     row, col \u001b[38;5;241m=\u001b[39m \u001b[38;5;28;43mself\u001b[39;49m\u001b[38;5;241;43m.\u001b[39;49m\u001b[43m_validate_indices\u001b[49m\u001b[43m(\u001b[49m\u001b[43mkey\u001b[49m\u001b[43m)\u001b[49m\n\u001b[1;32m    104\u001b[0m     \u001b[38;5;28;01mif\u001b[39;00m \u001b[38;5;28misinstance\u001b[39m(row, INT_TYPES) \u001b[38;5;129;01mand\u001b[39;00m \u001b[38;5;28misinstance\u001b[39m(col, INT_TYPES):\n\u001b[1;32m    105\u001b[0m         x \u001b[38;5;241m=\u001b[39m np\u001b[38;5;241m.\u001b[39masarray(x, dtype\u001b[38;5;241m=\u001b[39m\u001b[38;5;28mself\u001b[39m\u001b[38;5;241m.\u001b[39mdtype)\n",
      "File \u001b[0;32m~/miniconda3/lib/python3.12/site-packages/scipy/sparse/_index.py:163\u001b[0m, in \u001b[0;36mIndexMixin._validate_indices\u001b[0;34m(self, key)\u001b[0m\n\u001b[1;32m    161\u001b[0m \u001b[38;5;28;01melse\u001b[39;00m:\n\u001b[1;32m    162\u001b[0m     row, col \u001b[38;5;241m=\u001b[39m _unpack_index(key)\n\u001b[0;32m--> 163\u001b[0m M, N \u001b[38;5;241m=\u001b[39m \u001b[38;5;28;43mself\u001b[39;49m\u001b[38;5;241;43m.\u001b[39;49m\u001b[43mshape\u001b[49m\n\u001b[1;32m    165\u001b[0m \u001b[38;5;28;01mdef\u001b[39;00m \u001b[38;5;21m_validate_bool_idx\u001b[39m(\n\u001b[1;32m    166\u001b[0m     idx: npt\u001b[38;5;241m.\u001b[39mNDArray[np\u001b[38;5;241m.\u001b[39mbool_],\n\u001b[1;32m    167\u001b[0m     axis_size: \u001b[38;5;28mint\u001b[39m,\n\u001b[1;32m    168\u001b[0m     axis_name: \u001b[38;5;28mstr\u001b[39m\n\u001b[1;32m    169\u001b[0m ) \u001b[38;5;241m-\u001b[39m\u001b[38;5;241m>\u001b[39m npt\u001b[38;5;241m.\u001b[39mNDArray[np\u001b[38;5;241m.\u001b[39mint_]:\n\u001b[1;32m    170\u001b[0m     \u001b[38;5;28;01mif\u001b[39;00m \u001b[38;5;28mlen\u001b[39m(idx) \u001b[38;5;241m!=\u001b[39m axis_size:\n",
      "File \u001b[0;32m~/miniconda3/lib/python3.12/site-packages/scipy/sparse/_base.py:124\u001b[0m, in \u001b[0;36m_spbase.shape\u001b[0;34m(self)\u001b[0m\n\u001b[1;32m    119\u001b[0m         \u001b[38;5;28;01mraise\u001b[39;00m \u001b[38;5;167;01mValueError\u001b[39;00m(\n\u001b[1;32m    120\u001b[0m             \u001b[38;5;124m\"\u001b[39m\u001b[38;5;124mscipy sparse array classes do not support instantiation from a scalar\u001b[39m\u001b[38;5;124m\"\u001b[39m\n\u001b[1;32m    121\u001b[0m         )\n\u001b[1;32m    122\u001b[0m     \u001b[38;5;28mself\u001b[39m\u001b[38;5;241m.\u001b[39mmaxprint \u001b[38;5;241m=\u001b[39m maxprint\n\u001b[0;32m--> 124\u001b[0m \u001b[38;5;129m@property\u001b[39m\n\u001b[1;32m    125\u001b[0m \u001b[38;5;28;01mdef\u001b[39;00m \u001b[38;5;21mshape\u001b[39m(\u001b[38;5;28mself\u001b[39m):\n\u001b[1;32m    126\u001b[0m     \u001b[38;5;28;01mreturn\u001b[39;00m \u001b[38;5;28mself\u001b[39m\u001b[38;5;241m.\u001b[39m_shape\n\u001b[1;32m    128\u001b[0m \u001b[38;5;28;01mdef\u001b[39;00m \u001b[38;5;21mreshape\u001b[39m(\u001b[38;5;28mself\u001b[39m, \u001b[38;5;241m*\u001b[39margs, \u001b[38;5;241m*\u001b[39m\u001b[38;5;241m*\u001b[39mkwargs):\n",
      "\u001b[0;31mKeyboardInterrupt\u001b[0m: "
     ]
    }
   ],
   "source": [
    "val_cap, time_step = 1.0, 0.01\n",
    "val_cap, time_step = float(val_cap), float(time_step)\n",
    "\n",
    "for length in [3, 7, 9, 10, 20, 30, 40]:\n",
    "    array = Array(length=length, mode_analysis=True)\n",
    "    matrix_init = Matrix(matrix_init=None, array=array, val_cap=val_cap, time_step=time_step)\n",
    "    array_new = Array_new(length=length, mode_analysis=True)\n",
    "    matrix_init_new = Matrix_new(matrix_init=None, array=array_new, val_cap=val_cap, time_step=time_step)\n",
    "\n",
    "    # CHECK 1\n",
    "    check_1 = check_matrix_init(matrix_init, matrix_init_new, length, np.nan, np.nan, val_cap, time_step)\n",
    "    if check_1 is not None: checks.append(check_1)\n",
    "\n",
    "    if length < 10: continue\n",
    "    for width in np.arange(0.25, 2.25, 0.25).tolist() + [0.85, 1.15]:\n",
    "        print((length, width), len(checks))\n",
    "        for seed in list(range(100)) + [333, 444, 555, 666, 777, 888, 999, 1000]:\n",
    "\n",
    "            matrix, equation, failure = test1(array, matrix_init, width, seed)\n",
    "\n",
    "            # CHECK 2\n",
    "            check_2 = check_data_vs_test(failure, length, width, seed, val_cap, time_step)\n",
    "            if check_2 is not None: checks.append(check_2)\n",
    "\n",
    "            matrix_new, equation_new, failure_new = test2(array_new, matrix_init_new, width, seed)\n",
    "\n",
    "            # CHECK 3\n",
    "            check_3 = check_matrix(matrix, matrix_new, length, width, seed, val_cap, time_step)\n",
    "            if check_3 is not None: checks.append(check_3)\n",
    "\n",
    "            # CHECK 4\n",
    "            check_4 = check_primary_data(failure, failure_new, length, width, seed, val_cap, time_step)\n",
    "            if check_4 is not None: checks.append(check_4)\n",
    "\n",
    "            # CHECK 5\n",
    "            check_5 = check_secondary_data(failure, failure_new, length, width, seed, val_cap, time_step)\n",
    "            if check_5 is not None: checks.append(check_5)"
   ]
  },
  {
   "cell_type": "markdown",
   "id": "08a15f33",
   "metadata": {},
   "source": [
    "---"
   ]
  },
  {
   "cell_type": "code",
   "execution_count": null,
   "id": "b10eae4b",
   "metadata": {},
   "outputs": [],
   "source": [
    "length = 3\n",
    "width = 1.25\n",
    "seed = 23\n",
    "val_cap = 1.0\n",
    "time_step = 0.01\n",
    "\n",
    "array = Array(length=length, mode_analysis=True)\n",
    "matrix_init = Matrix(matrix_init=None, array=array, val_cap=val_cap, time_step=time_step)\n",
    "array_new = Array_new(length=length, mode_analysis=True)\n",
    "matrix_init_new = Matrix_new(matrix_init=None, array=array_new, val_cap=val_cap, time_step=time_step)\n",
    "\n",
    "matrix, equation, failure = test1(array, matrix_init, width, seed)\n",
    "matrix_new, equation_new, failure_new = test2(array_new, matrix_init_new, width, seed)"
   ]
  }
 ],
 "metadata": {
  "kernelspec": {
   "display_name": "base",
   "language": "python",
   "name": "python3"
  },
  "language_info": {
   "codemirror_mode": {
    "name": "ipython",
    "version": 3
   },
   "file_extension": ".py",
   "mimetype": "text/x-python",
   "name": "python",
   "nbconvert_exporter": "python",
   "pygments_lexer": "ipython3",
   "version": "3.12.2"
  }
 },
 "nbformat": 4,
 "nbformat_minor": 5
}
